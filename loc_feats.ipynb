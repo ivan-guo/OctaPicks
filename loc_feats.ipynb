{
 "cells": [
  {
   "cell_type": "code",
   "execution_count": 1,
   "metadata": {},
   "outputs": [],
   "source": [
    "import pandas as pd"
   ]
  },
  {
   "cell_type": "code",
   "execution_count": null,
   "metadata": {},
   "outputs": [],
   "source": [
    "def home_adv_feat(fighter_df, fights_df):\n",
    "    \"\"\"\n",
    "    Adds a feature to the fighter_df that is the percentage of fights that the fighter has fought at home\n",
    "    \"\"\"\n",
    "    home_adv = []\n",
    "    for fighter in fighter_df['fighter_name']:\n",
    "        num_fights = len(fights_df[fights_df['fighter_name'] == fighter])\n",
    "        num_home_fights = len(fights_df[(fights_df['fighter_name'] == fighter) & (fights_df['location'] == 'Las Vegas, Nevada, USA')])\n",
    "        home_adv.append(num_home_fights / num_fights)\n",
    "    fighter_df['home_adv'] = home_adv\n"
   ]
  },
  {
   "cell_type": "code",
   "execution_count": null,
   "metadata": {},
   "outputs": [],
   "source": [
    "# Creates home advantage features\n",
    "def __create_home_adv_feats(self, df, include_progress_bar=False):\n",
    "    try:\n",
    "        cols = ['p1_iso', 'p2_iso', 'tourney_name', 'year']\n",
    "        self.__check_missing(df, cols)\n",
    "\n",
    "        df[['p1_home_adv', 'p2_home_adv']] = df.swifter.progress_bar(include_progress_bar).apply(lambda row: self.__get_home_adv(row['p1_iso'], row['p2_iso'], row['tourney_name'], row['year']), axis=1)\n",
    "    except Exception as e:\n",
    "        print(f\"Error encountered while creating home_adv feats: {str(e)}\")\n",
    "    finally:\n",
    "        return df\n",
    "\n",
    "def __create_surface_env_feats(self, df):\n",
    "    try:\n",
    "        self.__check_missing(df, 'surface')\n",
    "\n",
    "        df['Clay'] = np.where((df['surface'] == 'Clay'), 1, 0)\n",
    "        df['Hard'] = np.where((df['surface'] == 'Hard'), 1, 0)\n",
    "        df['Carpet'] = np.where((df['surface'] == 'Carpet'), 1, 0)\n",
    "        df['Grass'] = np.where((df['surface'] == 'Grass'), 1, 0)\n",
    "        df = df.drop(['surface'], axis=1)\n",
    "    except Exception as e:\n",
    "        print(f\"Error encountered while creating surface_env feats: {str(e)}\")\n",
    "    finally:\n",
    "        return df\n",
    "\n",
    "\n",
    "def __get_home_adv(self, p1_iso, p2_iso, tourney_name, year):\n",
    "    p1_at_home = int(p1_iso == self.__get_tournament_loc(tourney_name, year))\n",
    "    p2_at_home = int(p2_iso == self.__get_tournament_loc(tourney_name, year))\n",
    "    return pd.Series([p1_at_home, p2_at_home])\n",
    "\n",
    "\n",
    "def __get_tournament_loc(self, tournament, year):\n",
    "    if tournament == \"Laver Cup\" or tournament == \"Tour Finals\":\n",
    "        tournament = tournament + \" \" + str(year)\n",
    "    tourneys = self.tournament_loc_df[self.tournament_loc_df['tournament'] == tournament]\n",
    "    if not tourneys.empty:\n",
    "        return tourneys.iloc[0]['iso_code']\n",
    "\n",
    "\n",
    "def __check_missing(self, df, cols):\n",
    "    if type(cols) != list:\n",
    "        if cols not in df:\n",
    "            raise Exception(f\"Error: {cols} column does not exist\")\n",
    "    else:\n",
    "        for col in cols:\n",
    "            if col not in df:\n",
    "                raise Exception(f\"Error: {col} column does not exist\")"
   ]
  }
 ],
 "metadata": {
  "kernelspec": {
   "display_name": "Python 3.11.4 64-bit",
   "language": "python",
   "name": "python3"
  },
  "language_info": {
   "codemirror_mode": {
    "name": "ipython",
    "version": 3
   },
   "file_extension": ".py",
   "mimetype": "text/x-python",
   "name": "python",
   "nbconvert_exporter": "python",
   "pygments_lexer": "ipython3",
   "version": "3.11.4"
  },
  "orig_nbformat": 4,
  "vscode": {
   "interpreter": {
    "hash": "b0fa6594d8f4cbf19f97940f81e996739fb7646882a419484c72d19e05852a7e"
   }
  }
 },
 "nbformat": 4,
 "nbformat_minor": 2
}
