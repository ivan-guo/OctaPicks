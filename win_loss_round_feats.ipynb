{
 "cells": [
  {
   "cell_type": "code",
   "execution_count": 343,
   "metadata": {},
   "outputs": [],
   "source": [
    "import pandas as pd\n",
    "import numpy as np\n",
    "import requests\n",
    "import swifter\n",
    "from bs4 import BeautifulSoup\n",
    "import logging\n",
    "logger = logging.getLogger('test')"
   ]
  },
  {
   "cell_type": "code",
   "execution_count": 252,
   "metadata": {},
   "outputs": [],
   "source": [
    "def create_col_names_win_loss_round():\n",
    "    \"\"\"\n",
    "    Generates column names for significant strike statistics.\n",
    "\n",
    "    Returns:\n",
    "        list: A list of strings, each representing a column name for a specific significant strike statistic.\n",
    "    \"\"\"\n",
    "    col_names = []\n",
    "    fighters = ['fighter-a', 'fighter-b']\n",
    "    fight_rounds = ['3R', '5R']\n",
    "    win_loss = ['wins', 'losses']\n",
    "    rounds = ['R1', 'R2', 'R3', 'R4', 'R5', 'decision', 'overall']\n",
    "    time_periods = ['alltime', '1y']\n",
    "    for fighter in fighters:\n",
    "        for num_rounds in fight_rounds:\n",
    "            for wl in win_loss:\n",
    "                for dec_round in rounds:\n",
    "                    for time_period in time_periods:\n",
    "                        if num_rounds == '3R' and (dec_round == 'R4' or dec_round == 'R5'):\n",
    "                            continue\n",
    "                        col_name = f\"{fighter.replace(' ', '_')}_{num_rounds.replace(' ', '_')}_{dec_round}_{wl}_{time_period.replace(' ', '_')}\"\n",
    "                        col_names.append(col_name)\n",
    "    return col_names"
   ]
  },
  {
   "cell_type": "code",
   "execution_count": 325,
   "metadata": {},
   "outputs": [
    {
     "name": "stdout",
     "output_type": "stream",
     "text": [
      "['fighter-a_3R_R1_wins_alltime', 'fighter-a_3R_R1_wins_1y', 'fighter-a_3R_R2_wins_alltime', 'fighter-a_3R_R2_wins_1y', 'fighter-a_3R_R3_wins_alltime', 'fighter-a_3R_R3_wins_1y', 'fighter-a_3R_decision_wins_alltime', 'fighter-a_3R_decision_wins_1y', 'fighter-a_3R_overall_wins_alltime', 'fighter-a_3R_overall_wins_1y', 'fighter-a_3R_R1_losses_alltime', 'fighter-a_3R_R1_losses_1y', 'fighter-a_3R_R2_losses_alltime', 'fighter-a_3R_R2_losses_1y', 'fighter-a_3R_R3_losses_alltime', 'fighter-a_3R_R3_losses_1y', 'fighter-a_3R_decision_losses_alltime', 'fighter-a_3R_decision_losses_1y', 'fighter-a_3R_overall_losses_alltime', 'fighter-a_3R_overall_losses_1y']\n",
      "['fighter-a_5R_R1_wins_alltime', 'fighter-a_5R_R1_wins_1y', 'fighter-a_5R_R2_wins_alltime', 'fighter-a_5R_R2_wins_1y', 'fighter-a_5R_R3_wins_alltime', 'fighter-a_5R_R3_wins_1y', 'fighter-a_5R_R4_wins_alltime', 'fighter-a_5R_R4_wins_1y', 'fighter-a_5R_R5_wins_alltime', 'fighter-a_5R_R5_wins_1y', 'fighter-a_5R_decision_wins_alltime', 'fighter-a_5R_decision_wins_1y', 'fighter-a_5R_overall_wins_alltime', 'fighter-a_5R_overall_wins_1y', 'fighter-a_5R_R1_losses_alltime', 'fighter-a_5R_R1_losses_1y', 'fighter-a_5R_R2_losses_alltime', 'fighter-a_5R_R2_losses_1y', 'fighter-a_5R_R3_losses_alltime', 'fighter-a_5R_R3_losses_1y', 'fighter-a_5R_R4_losses_alltime', 'fighter-a_5R_R4_losses_1y', 'fighter-a_5R_R5_losses_alltime', 'fighter-a_5R_R5_losses_1y', 'fighter-a_5R_decision_losses_alltime', 'fighter-a_5R_decision_losses_1y', 'fighter-a_5R_overall_losses_alltime', 'fighter-a_5R_overall_losses_1y']\n",
      "96\n"
     ]
    }
   ],
   "source": [
    "col = create_col_names_win_loss_round()\n",
    "three_round_fight_cols_a = col[:48][:20]\n",
    "five_round_fight_cols_a = col[:48][20:]\n",
    "# print(col)\n",
    "print(three_round_fight_cols_a) # 3R\n",
    "print(five_round_fight_cols_a) # 5R\n",
    "print(len(col))"
   ]
  },
  {
   "cell_type": "code",
   "execution_count": 254,
   "metadata": {},
   "outputs": [],
   "source": [
    "def get_unique_outcome_methods(column):\n",
    "    \"\"\"\n",
    "    Returns a list of unique strings from the provided column.\n",
    "\n",
    "    Args:\n",
    "    column (pd.Series): A Pandas Series object representing a DataFrame column.\n",
    "\n",
    "    Returns:\n",
    "    list: A list containing unique strings found in the column.\n",
    "    \"\"\"\n",
    "    return column.unique().tolist()\n"
   ]
  },
  {
   "cell_type": "code",
   "execution_count": 331,
   "metadata": {},
   "outputs": [
    {
     "name": "stdout",
     "output_type": "stream",
     "text": [
      "16\n",
      "0\n",
      "1\n",
      "2\n",
      "3\n",
      "4\n",
      "5\n",
      "6\n",
      "7\n",
      "8\n",
      "9\n",
      "10\n",
      "11\n",
      "12\n",
      "13\n",
      "14\n",
      "15\n"
     ]
    },
    {
     "data": {
      "text/plain": [
       "0     None\n",
       "1     None\n",
       "2     None\n",
       "3     None\n",
       "4     None\n",
       "5     None\n",
       "6     None\n",
       "7     None\n",
       "8     None\n",
       "9     None\n",
       "10    None\n",
       "11    None\n",
       "12    None\n",
       "13    None\n",
       "14    None\n",
       "15    None\n",
       "dtype: object"
      ]
     },
     "execution_count": 331,
     "metadata": {},
     "output_type": "execute_result"
    }
   ],
   "source": [
    "# creating the leon edwards allfights csv\n",
    "\n",
    "\n",
    "df = pd.read_csv('ufc_men_stats_by_fight_td_col_rename.csv', encoding='ISO-8859-1')\n",
    "# Assuming df is your DataFrame\n",
    "# Calculate the mode of the 'outcome_format' column\n",
    "# mode_outcome_format = df['outcome_format'].mode()[0]\n",
    "# print(mode_outcome_format)\n",
    "# # # Replace values that are not '5-5-5' or '5-5-5-5-5' with the mode\n",
    "# df['outcome_format'] = df['outcome_format'].apply(lambda x: x if x == \"(5-5-5)\" or x == \"(5-5-5-5-5)\" else mode_outcome_format)\n",
    "\n",
    "# df= df.loc[:1000-1]\n",
    "# fighter_a_id_vals = df.outcome_format.values\n",
    "\n",
    "# outcome_format_values = df.outcome_format.values\n",
    "fighter_id = 'f1fac969a1d70b08'\n",
    "# print(fight_format_values)\n",
    "fighter_a_id_vals = df.fighter_a_id.values\n",
    "fighter_b_id_vals = df.fighter_b_id.values\n",
    "\n",
    "allfights = df[((fighter_a_id_vals == fighter_id) | (fighter_b_id_vals == fighter_id))]\n",
    "allfights = allfights.reset_index(drop=True) # resseting index other wise has index of original df\n",
    "\n",
    "allfights.to_csv('leon_edwards_allfights.csv', index=True)\n",
    "\n",
    "\n",
    "df_test = pd.read_csv('leon_edwards_allfights.csv', encoding='ISO-8859-1')\n",
    "print(len(df_test))\n",
    "df_test.apply(lambda x: print(x.name), axis=1)   \n",
    "\n",
    "\n"
   ]
  },
  {
   "cell_type": "code",
   "execution_count": 256,
   "metadata": {},
   "outputs": [],
   "source": [
    "def compute_year_ago(df):\n",
    "    temp_year_ago_df = pd.to_datetime(df['date'])\n",
    "    temp_year_ago_df = temp_year_ago_df - pd.DateOffset(years=1)\n",
    "    return temp_year_ago_df"
   ]
  },
  {
   "cell_type": "code",
   "execution_count": 276,
   "metadata": {},
   "outputs": [],
   "source": [
    "def get_fighter_fights_win_loss_round(df, fighter_id, index):\n",
    "        \"\"\"\n",
    "        Retrieves the most recent fights of a fighter before a given index in the dataframe.\n",
    "\n",
    "        Args:\n",
    "            df (pd.DataFrame): The dataframe containing fight records.\n",
    "            fighter_id (str): The ID of the fighter.\n",
    "            index (int): The index in the dataframe up to which fights should be considered.\n",
    "\n",
    "        Returns:\n",
    "            tuple: Contains three dataframes - the last 3 fights, the last 5 fights, and all previous fights.\n",
    "        \"\"\"\n",
    "        year_ago = compute_year_ago(df)\n",
    "        all_prev_fights = df.loc[:index-1]\n",
    "\n",
    "        if not all_prev_fights.empty:\n",
    "            # Filter fights involving the specified fighter\n",
    "            fighter_a_id_vals = all_prev_fights.fighter_a_id.values\n",
    "            fighter_b_id_vals = all_prev_fights.fighter_b_id.values\n",
    "\n",
    "            prev_fights = all_prev_fights[((fighter_a_id_vals == fighter_id) | (fighter_b_id_vals == fighter_id))]\n",
    "            # prev_fights_last_year = all_prev_fights[((fighter_a_id_vals == fighter_id) | (fighter_b_id_vals == fighter_id)) & (pd.to_datetime(all_prev_fights['date']) > year_ago[index])]\n",
    "\n",
    "\n",
    "            if not prev_fights.empty:\n",
    "                outcome_format_values = prev_fights.outcome_format.values\n",
    "\n",
    "                # Filter fights that are 3R or 5R\n",
    "                all_prev_fights_3R = prev_fights[outcome_format_values == \"(5-5-5)\"]\n",
    "                all_prev_fights_5R = prev_fights[outcome_format_values == \"(5-5-5-5-5)\"]\n",
    "                \n",
    "                return all_prev_fights_3R, all_prev_fights_5R, year_ago[index]\n",
    "                \n",
    "            else:\n",
    "                 return pd.DataFrame(), pd.DataFrame(), year_ago[index]\n",
    "            \n",
    "            \n",
    "    \n",
    "        return pd.DataFrame(), pd.DataFrame(), year_ago[index]\n",
    "\n",
    "\n",
    "    "
   ]
  },
  {
   "cell_type": "code",
   "execution_count": 258,
   "metadata": {},
   "outputs": [],
   "source": [
    "def get_wins_losses(df, fighter_id):\n",
    "    \"\"\"\n",
    "    Retrieves the wins and losses of a fighter.\n",
    "\n",
    "    Args:\n",
    "        df (pd.DataFrame): The dataframe containing fight records.\n",
    "        fighter_id (str): The ID of the fighter.\n",
    "        colnames (list): A list of column names to be used for the dataframe.\n",
    "\n",
    "    Returns:\n",
    "        tuple: Contains two dataframes - one containing the wins of the fighter, and the other containing the losses of the fighter.\n",
    "    \"\"\"\n",
    "   \n",
    "    if df.empty:\n",
    "        return pd.DataFrame(), pd.DataFrame()\n",
    "    \n",
    "    fighter_wins = df[(df['winner_id'] == fighter_id)]\n",
    "    fighter_losses = df[(df['winner_id'] != fighter_id)]\n",
    "\n",
    "    assert len(fighter_wins) + len(fighter_losses) == len(df)\n",
    "\n",
    "    return fighter_wins, fighter_losses\n",
    "    "
   ]
  },
  {
   "cell_type": "code",
   "execution_count": 259,
   "metadata": {},
   "outputs": [],
   "source": [
    "def isDecision(outcome_methods):\n",
    "    return outcome_methods.str.contains(\"Decision\", case=False, na=False)"
   ]
  },
  {
   "cell_type": "code",
   "execution_count": 321,
   "metadata": {},
   "outputs": [],
   "source": [
    "def compute_win_loss_round_details_alltime(fights_df, round_num):\n",
    "\n",
    "    if fights_df.empty:\n",
    "        return pd.DataFrame()\n",
    "    \n",
    "    round_outcome_fights = fights_df[(fights_df['outcome_round'] == round_num) & (~isDecision(fights_df['outcome_method']))]\n",
    "    # print(round_outcome_fights)\n",
    "    return round_outcome_fights"
   ]
  },
  {
   "cell_type": "code",
   "execution_count": 340,
   "metadata": {},
   "outputs": [],
   "source": [
    "def get_win_loss_round_details(fights_won, fights_lost, fighter_id, colnames, year_ago):\n",
    "    # fights_won_3R, fights_lost_3R, fighter_id, colnames[:20], year_ago, index\n",
    "    res = []\n",
    "    # if len(colnames) == 2:\n",
    "    #     print(colnames)\n",
    "    \n",
    "    # print(year_ago[index])\n",
    "    for i in range(0, len(colnames), 2):\n",
    "\n",
    "        split = colnames[i].split('_')\n",
    "        round_num = split[2]\n",
    "        outcome = split[3]\n",
    "        \n",
    "        if outcome == 'wins':\n",
    "            outcome = 1\n",
    "        else:\n",
    "            outcome = 0\n",
    "\n",
    "        # print(index)\n",
    "        if round_num == 'overall':\n",
    "            if outcome:\n",
    "                res.append(len(fights_won))\n",
    "                res.append(len(fights_won[(pd.to_datetime(fights_won['date'])> year_ago)]))\n",
    "            else:\n",
    "                res.append(len(fights_lost))\n",
    "                res.append(len(fights_lost[(pd.to_datetime(fights_lost['date']) > year_ago)]))\n",
    "            continue\n",
    "            \n",
    "\n",
    "        if round_num == 'decision':\n",
    "            if outcome:\n",
    "                res.append(len(fights_won[isDecision(fights_won['outcome_method'])]))\n",
    "                res.append(len(fights_won[isDecision(fights_won['outcome_method']) & (pd.to_datetime(fights_won['date']) > year_ago)]))\n",
    "                \n",
    "            else:\n",
    "                res.append(len(fights_lost[isDecision(fights_lost['outcome_method'])]))\n",
    "                res.append(len(fights_lost[isDecision(fights_lost['outcome_method']) & (pd.to_datetime(fights_lost['date']) > year_ago)]))\n",
    "            continue\n",
    "            \n",
    "        elif outcome:\n",
    "            round_outcome_fights = compute_win_loss_round_details_alltime(fights_won, round_num)\n",
    "            # print(f'printing the date col: {round_outcome_fights[\"date\"]}')\n",
    "            # print(round_outcome_fights.columns)\n",
    "            res.append(len(round_outcome_fights))\n",
    "            res.append(len(round_outcome_fights[(pd.to_datetime(round_outcome_fights['date']) > year_ago)]))\n",
    "            continue\n",
    "        else:\n",
    "            round_outcome_fights = compute_win_loss_round_details_alltime(fights_lost, round_num)\n",
    "            # print(round_outcome_fights.columns)\n",
    "            res.append(len(round_outcome_fights))\n",
    "            res.append(len(round_outcome_fights[(pd.to_datetime(round_outcome_fights['date']) > year_ago)]))\n",
    "            continue\n",
    "\n",
    "\n",
    "    # print(len(res))\n",
    "    return res"
   ]
  },
  {
   "cell_type": "code",
   "execution_count": 341,
   "metadata": {},
   "outputs": [],
   "source": [
    "def get_win_loss_round_feats(df, fighter_id, index, colnames):\n",
    "\n",
    "    res = []\n",
    "    all_prev_fights_3R, all_prev_fights_5R, year_ago= get_fighter_fights_win_loss_round(df, fighter_id, index)\n",
    "\n",
    "    fights_won_3R, fights_lost_3R = get_wins_losses(all_prev_fights_3R, fighter_id)\n",
    "    fights_won_5R, fights_lost_5R = get_wins_losses(all_prev_fights_5R, fighter_id)\n",
    "    # print(index)\n",
    "    res.append(get_win_loss_round_details(fights_won_3R, fights_lost_3R, fighter_id, colnames[:20], year_ago))\n",
    "    res.append(get_win_loss_round_details(fights_won_5R, fights_lost_5R, fighter_id, colnames[20:], year_ago))\n",
    "    # print(len(res)) # 2\n",
    "    return res\n",
    "\n",
    "\n"
   ]
  },
  {
   "cell_type": "code",
   "execution_count": 344,
   "metadata": {},
   "outputs": [],
   "source": [
    "def calculate_win_loss_round(df, fighter_a_id, fighter_b_id, index, colnames):\n",
    "    res = []\n",
    "    logging.info(f'index: {index}')\n",
    "    print(f' this is the index: {index}')\n",
    "    # print(f'cols for a: {colnames[:48]}')\n",
    "    # print(f'cols for b: {colnames[48:]}')\n",
    "    # assert len(colnames[:48]) + len(colnames[48:]) == len(colnames) == 96\n",
    "    res.append(get_win_loss_round_feats(df, fighter_a_id, index, colnames[:48])) # has all of fighter_a's cols\n",
    "    res.append(get_win_loss_round_feats(df, fighter_b_id, index, colnames[48:])) # has all of fighter_b's cols\n",
    "    # print(len(res)) # 2\n",
    "    return pd.Series(res)"
   ]
  },
  {
   "cell_type": "code",
   "execution_count": 333,
   "metadata": {},
   "outputs": [],
   "source": [
    "def create_win_loss_round_feats(df):\n",
    "    \"\"\"\n",
    "    Creates a dataframe with added features for significant strikes and their differentials.\n",
    "\n",
    "    Args:\n",
    "        df (pd.DataFrame): The original dataframe containing fight data.\n",
    "\n",
    "    Returns:\n",
    "        pd.DataFrame: A dataframe with additional columns for significant strike features and differentials.\n",
    "    \"\"\"\n",
    "    \n",
    "    # Generate column names for significant strikes and differentials\n",
    "    col_names = create_col_names_win_loss_round()\n",
    "    # print(len(col_names))\n",
    "    df['date'] = pd.to_datetime(df['date'])\n",
    "    # Copy the input dataframe and calculate significant strike features\n",
    "    input_df = df.copy()\n",
    "    result_features = pd.DataFrame(columns=col_names)\n",
    "    result_features[col_names] = input_df.swifter.progress_bar(True).apply(lambda row: calculate_win_loss_round(input_df, row['fighter_a_id'], row['fighter_b_id'], row.name, col_names), axis=1)\n",
    "\n",
    "    # Combine the input dataframe with the calculated features\n",
    "    result_df = pd.concat([input_df, result_features], axis=1)\n",
    "\n",
    "    return result_df"
   ]
  },
  {
   "cell_type": "code",
   "execution_count": 350,
   "metadata": {},
   "outputs": [
    {
     "ename": "KeyError",
     "evalue": "'date'",
     "output_type": "error",
     "traceback": [
      "\u001b[0;31m---------------------------------------------------------------------------\u001b[0m",
      "\u001b[0;31mAttributeError\u001b[0m                            Traceback (most recent call last)",
      "\u001b[0;32m/opt/homebrew/lib/python3.11/site-packages/swifter/swifter.py\u001b[0m in \u001b[0;36m?\u001b[0;34m(self, func, axis, raw, result_type, args, **kwds)\u001b[0m\n\u001b[1;32m    426\u001b[0m         \u001b[0;32mexcept\u001b[0m \u001b[0mERRORS_TO_HANDLE\u001b[0m\u001b[0;34m:\u001b[0m  \u001b[0;31m# if can't vectorize, estimate time to pandas apply\u001b[0m\u001b[0;34m\u001b[0m\u001b[0;34m\u001b[0m\u001b[0m\n\u001b[1;32m    427\u001b[0m             \u001b[0mwrapped\u001b[0m \u001b[0;34m=\u001b[0m \u001b[0mself\u001b[0m\u001b[0;34m.\u001b[0m\u001b[0m_wrapped_apply\u001b[0m\u001b[0;34m(\u001b[0m\u001b[0mfunc\u001b[0m\u001b[0;34m,\u001b[0m \u001b[0maxis\u001b[0m\u001b[0;34m=\u001b[0m\u001b[0maxis\u001b[0m\u001b[0;34m,\u001b[0m \u001b[0mraw\u001b[0m\u001b[0;34m=\u001b[0m\u001b[0mraw\u001b[0m\u001b[0;34m,\u001b[0m \u001b[0mresult_type\u001b[0m\u001b[0;34m=\u001b[0m\u001b[0mresult_type\u001b[0m\u001b[0;34m,\u001b[0m \u001b[0margs\u001b[0m\u001b[0;34m=\u001b[0m\u001b[0margs\u001b[0m\u001b[0;34m,\u001b[0m \u001b[0;34m**\u001b[0m\u001b[0mkwds\u001b[0m\u001b[0;34m)\u001b[0m\u001b[0;34m\u001b[0m\u001b[0;34m\u001b[0m\u001b[0m\n\u001b[0;32m--> 428\u001b[0;31m             \u001b[0mtimed\u001b[0m \u001b[0;34m=\u001b[0m \u001b[0mtimeit\u001b[0m\u001b[0;34m.\u001b[0m\u001b[0mtimeit\u001b[0m\u001b[0;34m(\u001b[0m\u001b[0mwrapped\u001b[0m\u001b[0;34m,\u001b[0m \u001b[0mnumber\u001b[0m\u001b[0;34m=\u001b[0m\u001b[0mN_REPEATS\u001b[0m\u001b[0;34m)\u001b[0m\u001b[0;34m\u001b[0m\u001b[0;34m\u001b[0m\u001b[0m\n\u001b[0m\u001b[1;32m    429\u001b[0m             \u001b[0msample_proc_est\u001b[0m \u001b[0;34m=\u001b[0m \u001b[0mtimed\u001b[0m \u001b[0;34m/\u001b[0m \u001b[0mN_REPEATS\u001b[0m\u001b[0;34m\u001b[0m\u001b[0;34m\u001b[0m\u001b[0m\n",
      "\u001b[0;32m/var/folders/k1/1kzxbcbx4851jblxty7fsrvh0000gn/T/ipykernel_72677/3708207122.py\u001b[0m in \u001b[0;36m?\u001b[0;34m(row)\u001b[0m\n\u001b[0;32m---> 19\u001b[0;31m     \u001b[0mresult_features\u001b[0m\u001b[0;34m[\u001b[0m\u001b[0mcol_names\u001b[0m\u001b[0;34m]\u001b[0m \u001b[0;34m=\u001b[0m \u001b[0minput_df\u001b[0m\u001b[0;34m.\u001b[0m\u001b[0mswifter\u001b[0m\u001b[0;34m.\u001b[0m\u001b[0mprogress_bar\u001b[0m\u001b[0;34m(\u001b[0m\u001b[0;32mTrue\u001b[0m\u001b[0;34m)\u001b[0m\u001b[0;34m.\u001b[0m\u001b[0mapply\u001b[0m\u001b[0;34m(\u001b[0m\u001b[0;32mlambda\u001b[0m \u001b[0mrow\u001b[0m\u001b[0;34m:\u001b[0m \u001b[0mcalculate_win_loss_round\u001b[0m\u001b[0;34m(\u001b[0m\u001b[0minput_df\u001b[0m\u001b[0;34m,\u001b[0m \u001b[0mrow\u001b[0m\u001b[0;34m[\u001b[0m\u001b[0;34m'fighter_a_id'\u001b[0m\u001b[0;34m]\u001b[0m\u001b[0;34m,\u001b[0m \u001b[0mrow\u001b[0m\u001b[0;34m[\u001b[0m\u001b[0;34m'fighter_b_id'\u001b[0m\u001b[0;34m]\u001b[0m\u001b[0;34m,\u001b[0m \u001b[0mrow\u001b[0m\u001b[0;34m.\u001b[0m\u001b[0mname\u001b[0m\u001b[0;34m,\u001b[0m \u001b[0mcol_names\u001b[0m\u001b[0;34m)\u001b[0m\u001b[0;34m,\u001b[0m \u001b[0maxis\u001b[0m\u001b[0;34m=\u001b[0m\u001b[0;36m1\u001b[0m\u001b[0;34m)\u001b[0m\u001b[0;34m\u001b[0m\u001b[0;34m\u001b[0m\u001b[0m\n\u001b[0m",
      "\u001b[0;32m/opt/homebrew/lib/python3.11/site-packages/pandas/core/generic.py\u001b[0m in \u001b[0;36m?\u001b[0;34m(self, name)\u001b[0m\n\u001b[1;32m   5987\u001b[0m         ):\n\u001b[1;32m   5988\u001b[0m             \u001b[0;32mreturn\u001b[0m \u001b[0mself\u001b[0m\u001b[0;34m[\u001b[0m\u001b[0mname\u001b[0m\u001b[0;34m]\u001b[0m\u001b[0;34m\u001b[0m\u001b[0;34m\u001b[0m\u001b[0m\n\u001b[0;32m-> 5989\u001b[0;31m         \u001b[0;32mreturn\u001b[0m \u001b[0mobject\u001b[0m\u001b[0;34m.\u001b[0m\u001b[0m__getattribute__\u001b[0m\u001b[0;34m(\u001b[0m\u001b[0mself\u001b[0m\u001b[0;34m,\u001b[0m \u001b[0mname\u001b[0m\u001b[0;34m)\u001b[0m\u001b[0;34m\u001b[0m\u001b[0;34m\u001b[0m\u001b[0m\n\u001b[0m",
      "\u001b[0;31mAttributeError\u001b[0m: 'DataFrame' object has no attribute 'name'",
      "\nDuring handling of the above exception, another exception occurred:\n",
      "\u001b[0;31mKeyError\u001b[0m                                  Traceback (most recent call last)",
      "Cell \u001b[0;32mIn[350], line 3\u001b[0m\n\u001b[1;32m      1\u001b[0m leon_edwards_df \u001b[38;5;241m=\u001b[39m pd\u001b[38;5;241m.\u001b[39mread_csv(\u001b[38;5;124m'\u001b[39m\u001b[38;5;124mleon_edwards_allfights.csv\u001b[39m\u001b[38;5;124m'\u001b[39m, encoding\u001b[38;5;241m=\u001b[39m\u001b[38;5;124m'\u001b[39m\u001b[38;5;124mISO-8859-1\u001b[39m\u001b[38;5;124m'\u001b[39m)\n\u001b[0;32m----> 3\u001b[0m result_df \u001b[38;5;241m=\u001b[39m \u001b[43mcreate_win_loss_round_feats\u001b[49m\u001b[43m(\u001b[49m\u001b[43mleon_edwards_df\u001b[49m\u001b[43m)\u001b[49m\n\u001b[1;32m      5\u001b[0m \u001b[38;5;66;03m# result_df.to_csv('leon_edwards_win_loss_round.csv', index=False)\u001b[39;00m\n",
      "Cell \u001b[0;32mIn[333], line 19\u001b[0m, in \u001b[0;36mcreate_win_loss_round_feats\u001b[0;34m(df)\u001b[0m\n\u001b[1;32m     17\u001b[0m input_df \u001b[38;5;241m=\u001b[39m df\u001b[38;5;241m.\u001b[39mcopy()\n\u001b[1;32m     18\u001b[0m result_features \u001b[38;5;241m=\u001b[39m pd\u001b[38;5;241m.\u001b[39mDataFrame(columns\u001b[38;5;241m=\u001b[39mcol_names)\n\u001b[0;32m---> 19\u001b[0m result_features[col_names] \u001b[38;5;241m=\u001b[39m \u001b[43minput_df\u001b[49m\u001b[38;5;241;43m.\u001b[39;49m\u001b[43mswifter\u001b[49m\u001b[38;5;241;43m.\u001b[39;49m\u001b[43mprogress_bar\u001b[49m\u001b[43m(\u001b[49m\u001b[38;5;28;43;01mTrue\u001b[39;49;00m\u001b[43m)\u001b[49m\u001b[38;5;241;43m.\u001b[39;49m\u001b[43mapply\u001b[49m\u001b[43m(\u001b[49m\u001b[38;5;28;43;01mlambda\u001b[39;49;00m\u001b[43m \u001b[49m\u001b[43mrow\u001b[49m\u001b[43m:\u001b[49m\u001b[43m \u001b[49m\u001b[43mcalculate_win_loss_round\u001b[49m\u001b[43m(\u001b[49m\u001b[43minput_df\u001b[49m\u001b[43m,\u001b[49m\u001b[43m \u001b[49m\u001b[43mrow\u001b[49m\u001b[43m[\u001b[49m\u001b[38;5;124;43m'\u001b[39;49m\u001b[38;5;124;43mfighter_a_id\u001b[39;49m\u001b[38;5;124;43m'\u001b[39;49m\u001b[43m]\u001b[49m\u001b[43m,\u001b[49m\u001b[43m \u001b[49m\u001b[43mrow\u001b[49m\u001b[43m[\u001b[49m\u001b[38;5;124;43m'\u001b[39;49m\u001b[38;5;124;43mfighter_b_id\u001b[39;49m\u001b[38;5;124;43m'\u001b[39;49m\u001b[43m]\u001b[49m\u001b[43m,\u001b[49m\u001b[43m \u001b[49m\u001b[43mrow\u001b[49m\u001b[38;5;241;43m.\u001b[39;49m\u001b[43mname\u001b[49m\u001b[43m,\u001b[49m\u001b[43m \u001b[49m\u001b[43mcol_names\u001b[49m\u001b[43m)\u001b[49m\u001b[43m,\u001b[49m\u001b[43m \u001b[49m\u001b[43maxis\u001b[49m\u001b[38;5;241;43m=\u001b[39;49m\u001b[38;5;241;43m1\u001b[39;49m\u001b[43m)\u001b[49m\n\u001b[1;32m     21\u001b[0m \u001b[38;5;66;03m# Combine the input dataframe with the calculated features\u001b[39;00m\n\u001b[1;32m     22\u001b[0m result_df \u001b[38;5;241m=\u001b[39m pd\u001b[38;5;241m.\u001b[39mconcat([input_df, result_features], axis\u001b[38;5;241m=\u001b[39m\u001b[38;5;241m1\u001b[39m)\n",
      "File \u001b[0;32m/opt/homebrew/lib/python3.11/site-packages/swifter/swifter.py:428\u001b[0m, in \u001b[0;36mDataFrameAccessor.apply\u001b[0;34m(self, func, axis, raw, result_type, args, **kwds)\u001b[0m\n\u001b[1;32m    426\u001b[0m \u001b[38;5;28;01mexcept\u001b[39;00m ERRORS_TO_HANDLE:  \u001b[38;5;66;03m# if can't vectorize, estimate time to pandas apply\u001b[39;00m\n\u001b[1;32m    427\u001b[0m     wrapped \u001b[38;5;241m=\u001b[39m \u001b[38;5;28mself\u001b[39m\u001b[38;5;241m.\u001b[39m_wrapped_apply(func, axis\u001b[38;5;241m=\u001b[39maxis, raw\u001b[38;5;241m=\u001b[39mraw, result_type\u001b[38;5;241m=\u001b[39mresult_type, args\u001b[38;5;241m=\u001b[39margs, \u001b[38;5;241m*\u001b[39m\u001b[38;5;241m*\u001b[39mkwds)\n\u001b[0;32m--> 428\u001b[0m     timed \u001b[38;5;241m=\u001b[39m \u001b[43mtimeit\u001b[49m\u001b[38;5;241;43m.\u001b[39;49m\u001b[43mtimeit\u001b[49m\u001b[43m(\u001b[49m\u001b[43mwrapped\u001b[49m\u001b[43m,\u001b[49m\u001b[43m \u001b[49m\u001b[43mnumber\u001b[49m\u001b[38;5;241;43m=\u001b[39;49m\u001b[43mN_REPEATS\u001b[49m\u001b[43m)\u001b[49m\n\u001b[1;32m    429\u001b[0m     sample_proc_est \u001b[38;5;241m=\u001b[39m timed \u001b[38;5;241m/\u001b[39m N_REPEATS\n\u001b[1;32m    430\u001b[0m     est_apply_duration \u001b[38;5;241m=\u001b[39m sample_proc_est \u001b[38;5;241m/\u001b[39m \u001b[38;5;28mself\u001b[39m\u001b[38;5;241m.\u001b[39m_SAMPLE_SIZE \u001b[38;5;241m*\u001b[39m \u001b[38;5;28mself\u001b[39m\u001b[38;5;241m.\u001b[39m_nrows\n",
      "File \u001b[0;32m/opt/homebrew/Cellar/python@3.11/3.11.4_1/Frameworks/Python.framework/Versions/3.11/lib/python3.11/timeit.py:234\u001b[0m, in \u001b[0;36mtimeit\u001b[0;34m(stmt, setup, timer, number, globals)\u001b[0m\n\u001b[1;32m    231\u001b[0m \u001b[38;5;28;01mdef\u001b[39;00m \u001b[38;5;21mtimeit\u001b[39m(stmt\u001b[38;5;241m=\u001b[39m\u001b[38;5;124m\"\u001b[39m\u001b[38;5;124mpass\u001b[39m\u001b[38;5;124m\"\u001b[39m, setup\u001b[38;5;241m=\u001b[39m\u001b[38;5;124m\"\u001b[39m\u001b[38;5;124mpass\u001b[39m\u001b[38;5;124m\"\u001b[39m, timer\u001b[38;5;241m=\u001b[39mdefault_timer,\n\u001b[1;32m    232\u001b[0m            number\u001b[38;5;241m=\u001b[39mdefault_number, \u001b[38;5;28mglobals\u001b[39m\u001b[38;5;241m=\u001b[39m\u001b[38;5;28;01mNone\u001b[39;00m):\n\u001b[1;32m    233\u001b[0m \u001b[38;5;250m    \u001b[39m\u001b[38;5;124;03m\"\"\"Convenience function to create Timer object and call timeit method.\"\"\"\u001b[39;00m\n\u001b[0;32m--> 234\u001b[0m     \u001b[38;5;28;01mreturn\u001b[39;00m \u001b[43mTimer\u001b[49m\u001b[43m(\u001b[49m\u001b[43mstmt\u001b[49m\u001b[43m,\u001b[49m\u001b[43m \u001b[49m\u001b[43msetup\u001b[49m\u001b[43m,\u001b[49m\u001b[43m \u001b[49m\u001b[43mtimer\u001b[49m\u001b[43m,\u001b[49m\u001b[43m \u001b[49m\u001b[38;5;28;43mglobals\u001b[39;49m\u001b[43m)\u001b[49m\u001b[38;5;241;43m.\u001b[39;49m\u001b[43mtimeit\u001b[49m\u001b[43m(\u001b[49m\u001b[43mnumber\u001b[49m\u001b[43m)\u001b[49m\n",
      "File \u001b[0;32m/opt/homebrew/Cellar/python@3.11/3.11.4_1/Frameworks/Python.framework/Versions/3.11/lib/python3.11/timeit.py:178\u001b[0m, in \u001b[0;36mTimer.timeit\u001b[0;34m(self, number)\u001b[0m\n\u001b[1;32m    176\u001b[0m gc\u001b[38;5;241m.\u001b[39mdisable()\n\u001b[1;32m    177\u001b[0m \u001b[38;5;28;01mtry\u001b[39;00m:\n\u001b[0;32m--> 178\u001b[0m     timing \u001b[38;5;241m=\u001b[39m \u001b[38;5;28;43mself\u001b[39;49m\u001b[38;5;241;43m.\u001b[39;49m\u001b[43minner\u001b[49m\u001b[43m(\u001b[49m\u001b[43mit\u001b[49m\u001b[43m,\u001b[49m\u001b[43m \u001b[49m\u001b[38;5;28;43mself\u001b[39;49m\u001b[38;5;241;43m.\u001b[39;49m\u001b[43mtimer\u001b[49m\u001b[43m)\u001b[49m\n\u001b[1;32m    179\u001b[0m \u001b[38;5;28;01mfinally\u001b[39;00m:\n\u001b[1;32m    180\u001b[0m     \u001b[38;5;28;01mif\u001b[39;00m gcold:\n",
      "File \u001b[0;32m<timeit-src>:6\u001b[0m, in \u001b[0;36minner\u001b[0;34m(_it, _timer, _stmt)\u001b[0m\n",
      "File \u001b[0;32m/opt/homebrew/lib/python3.11/site-packages/swifter/swifter.py:337\u001b[0m, in \u001b[0;36mDataFrameAccessor._wrapped_apply.<locals>.wrapped\u001b[0;34m()\u001b[0m\n\u001b[1;32m    335\u001b[0m \u001b[38;5;28;01mdef\u001b[39;00m \u001b[38;5;21mwrapped\u001b[39m():\n\u001b[1;32m    336\u001b[0m     \u001b[38;5;28;01mwith\u001b[39;00m suppress_stdout_stderr_logging():\n\u001b[0;32m--> 337\u001b[0m         \u001b[38;5;28;43mself\u001b[39;49m\u001b[38;5;241;43m.\u001b[39;49m\u001b[43m_obj\u001b[49m\u001b[38;5;241;43m.\u001b[39;49m\u001b[43miloc\u001b[49m\u001b[43m[\u001b[49m\u001b[38;5;28;43mself\u001b[39;49m\u001b[38;5;241;43m.\u001b[39;49m\u001b[43m_SAMPLE_INDEX\u001b[49m\u001b[43m]\u001b[49m\u001b[38;5;241;43m.\u001b[39;49m\u001b[43mapply\u001b[49m\u001b[43m(\u001b[49m\n\u001b[1;32m    338\u001b[0m \u001b[43m            \u001b[49m\u001b[43mfunc\u001b[49m\u001b[43m,\u001b[49m\u001b[43m \u001b[49m\u001b[43maxis\u001b[49m\u001b[38;5;241;43m=\u001b[39;49m\u001b[43maxis\u001b[49m\u001b[43m,\u001b[49m\u001b[43m \u001b[49m\u001b[43mraw\u001b[49m\u001b[38;5;241;43m=\u001b[39;49m\u001b[43mraw\u001b[49m\u001b[43m,\u001b[49m\u001b[43m \u001b[49m\u001b[43mresult_type\u001b[49m\u001b[38;5;241;43m=\u001b[39;49m\u001b[43mresult_type\u001b[49m\u001b[43m,\u001b[49m\u001b[43m \u001b[49m\u001b[43margs\u001b[49m\u001b[38;5;241;43m=\u001b[39;49m\u001b[43margs\u001b[49m\u001b[43m,\u001b[49m\u001b[43m \u001b[49m\u001b[38;5;241;43m*\u001b[39;49m\u001b[38;5;241;43m*\u001b[39;49m\u001b[43mkwds\u001b[49m\n\u001b[1;32m    339\u001b[0m \u001b[43m        \u001b[49m\u001b[43m)\u001b[49m\n",
      "File \u001b[0;32m/opt/homebrew/lib/python3.11/site-packages/pandas/core/frame.py:9423\u001b[0m, in \u001b[0;36mDataFrame.apply\u001b[0;34m(self, func, axis, raw, result_type, args, **kwargs)\u001b[0m\n\u001b[1;32m   9412\u001b[0m \u001b[38;5;28;01mfrom\u001b[39;00m \u001b[38;5;21;01mpandas\u001b[39;00m\u001b[38;5;21;01m.\u001b[39;00m\u001b[38;5;21;01mcore\u001b[39;00m\u001b[38;5;21;01m.\u001b[39;00m\u001b[38;5;21;01mapply\u001b[39;00m \u001b[38;5;28;01mimport\u001b[39;00m frame_apply\n\u001b[1;32m   9414\u001b[0m op \u001b[38;5;241m=\u001b[39m frame_apply(\n\u001b[1;32m   9415\u001b[0m     \u001b[38;5;28mself\u001b[39m,\n\u001b[1;32m   9416\u001b[0m     func\u001b[38;5;241m=\u001b[39mfunc,\n\u001b[0;32m   (...)\u001b[0m\n\u001b[1;32m   9421\u001b[0m     kwargs\u001b[38;5;241m=\u001b[39mkwargs,\n\u001b[1;32m   9422\u001b[0m )\n\u001b[0;32m-> 9423\u001b[0m \u001b[38;5;28;01mreturn\u001b[39;00m \u001b[43mop\u001b[49m\u001b[38;5;241;43m.\u001b[39;49m\u001b[43mapply\u001b[49m\u001b[43m(\u001b[49m\u001b[43m)\u001b[49m\u001b[38;5;241m.\u001b[39m__finalize__(\u001b[38;5;28mself\u001b[39m, method\u001b[38;5;241m=\u001b[39m\u001b[38;5;124m\"\u001b[39m\u001b[38;5;124mapply\u001b[39m\u001b[38;5;124m\"\u001b[39m)\n",
      "File \u001b[0;32m/opt/homebrew/lib/python3.11/site-packages/pandas/core/apply.py:678\u001b[0m, in \u001b[0;36mFrameApply.apply\u001b[0;34m(self)\u001b[0m\n\u001b[1;32m    675\u001b[0m \u001b[38;5;28;01melif\u001b[39;00m \u001b[38;5;28mself\u001b[39m\u001b[38;5;241m.\u001b[39mraw:\n\u001b[1;32m    676\u001b[0m     \u001b[38;5;28;01mreturn\u001b[39;00m \u001b[38;5;28mself\u001b[39m\u001b[38;5;241m.\u001b[39mapply_raw()\n\u001b[0;32m--> 678\u001b[0m \u001b[38;5;28;01mreturn\u001b[39;00m \u001b[38;5;28;43mself\u001b[39;49m\u001b[38;5;241;43m.\u001b[39;49m\u001b[43mapply_standard\u001b[49m\u001b[43m(\u001b[49m\u001b[43m)\u001b[49m\n",
      "File \u001b[0;32m/opt/homebrew/lib/python3.11/site-packages/pandas/core/apply.py:798\u001b[0m, in \u001b[0;36mFrameApply.apply_standard\u001b[0;34m(self)\u001b[0m\n\u001b[1;32m    797\u001b[0m \u001b[38;5;28;01mdef\u001b[39;00m \u001b[38;5;21mapply_standard\u001b[39m(\u001b[38;5;28mself\u001b[39m):\n\u001b[0;32m--> 798\u001b[0m     results, res_index \u001b[38;5;241m=\u001b[39m \u001b[38;5;28;43mself\u001b[39;49m\u001b[38;5;241;43m.\u001b[39;49m\u001b[43mapply_series_generator\u001b[49m\u001b[43m(\u001b[49m\u001b[43m)\u001b[49m\n\u001b[1;32m    800\u001b[0m     \u001b[38;5;66;03m# wrap results\u001b[39;00m\n\u001b[1;32m    801\u001b[0m     \u001b[38;5;28;01mreturn\u001b[39;00m \u001b[38;5;28mself\u001b[39m\u001b[38;5;241m.\u001b[39mwrap_results(results, res_index)\n",
      "File \u001b[0;32m/opt/homebrew/lib/python3.11/site-packages/pandas/core/apply.py:814\u001b[0m, in \u001b[0;36mFrameApply.apply_series_generator\u001b[0;34m(self)\u001b[0m\n\u001b[1;32m    811\u001b[0m \u001b[38;5;28;01mwith\u001b[39;00m option_context(\u001b[38;5;124m\"\u001b[39m\u001b[38;5;124mmode.chained_assignment\u001b[39m\u001b[38;5;124m\"\u001b[39m, \u001b[38;5;28;01mNone\u001b[39;00m):\n\u001b[1;32m    812\u001b[0m     \u001b[38;5;28;01mfor\u001b[39;00m i, v \u001b[38;5;129;01min\u001b[39;00m \u001b[38;5;28menumerate\u001b[39m(series_gen):\n\u001b[1;32m    813\u001b[0m         \u001b[38;5;66;03m# ignore SettingWithCopy here in case the user mutates\u001b[39;00m\n\u001b[0;32m--> 814\u001b[0m         results[i] \u001b[38;5;241m=\u001b[39m \u001b[38;5;28;43mself\u001b[39;49m\u001b[38;5;241;43m.\u001b[39;49m\u001b[43mf\u001b[49m\u001b[43m(\u001b[49m\u001b[43mv\u001b[49m\u001b[43m)\u001b[49m\n\u001b[1;32m    815\u001b[0m         \u001b[38;5;28;01mif\u001b[39;00m \u001b[38;5;28misinstance\u001b[39m(results[i], ABCSeries):\n\u001b[1;32m    816\u001b[0m             \u001b[38;5;66;03m# If we have a view on v, we need to make a copy because\u001b[39;00m\n\u001b[1;32m    817\u001b[0m             \u001b[38;5;66;03m#  series_generator will swap out the underlying data\u001b[39;00m\n\u001b[1;32m    818\u001b[0m             results[i] \u001b[38;5;241m=\u001b[39m results[i]\u001b[38;5;241m.\u001b[39mcopy(deep\u001b[38;5;241m=\u001b[39m\u001b[38;5;28;01mFalse\u001b[39;00m)\n",
      "Cell \u001b[0;32mIn[333], line 19\u001b[0m, in \u001b[0;36mcreate_win_loss_round_feats.<locals>.<lambda>\u001b[0;34m(row)\u001b[0m\n\u001b[1;32m     17\u001b[0m input_df \u001b[38;5;241m=\u001b[39m df\u001b[38;5;241m.\u001b[39mcopy()\n\u001b[1;32m     18\u001b[0m result_features \u001b[38;5;241m=\u001b[39m pd\u001b[38;5;241m.\u001b[39mDataFrame(columns\u001b[38;5;241m=\u001b[39mcol_names)\n\u001b[0;32m---> 19\u001b[0m result_features[col_names] \u001b[38;5;241m=\u001b[39m input_df\u001b[38;5;241m.\u001b[39mswifter\u001b[38;5;241m.\u001b[39mprogress_bar(\u001b[38;5;28;01mTrue\u001b[39;00m)\u001b[38;5;241m.\u001b[39mapply(\u001b[38;5;28;01mlambda\u001b[39;00m row: \u001b[43mcalculate_win_loss_round\u001b[49m\u001b[43m(\u001b[49m\u001b[43minput_df\u001b[49m\u001b[43m,\u001b[49m\u001b[43m \u001b[49m\u001b[43mrow\u001b[49m\u001b[43m[\u001b[49m\u001b[38;5;124;43m'\u001b[39;49m\u001b[38;5;124;43mfighter_a_id\u001b[39;49m\u001b[38;5;124;43m'\u001b[39;49m\u001b[43m]\u001b[49m\u001b[43m,\u001b[49m\u001b[43m \u001b[49m\u001b[43mrow\u001b[49m\u001b[43m[\u001b[49m\u001b[38;5;124;43m'\u001b[39;49m\u001b[38;5;124;43mfighter_b_id\u001b[39;49m\u001b[38;5;124;43m'\u001b[39;49m\u001b[43m]\u001b[49m\u001b[43m,\u001b[49m\u001b[43m \u001b[49m\u001b[43mrow\u001b[49m\u001b[38;5;241;43m.\u001b[39;49m\u001b[43mname\u001b[49m\u001b[43m,\u001b[49m\u001b[43m \u001b[49m\u001b[43mcol_names\u001b[49m\u001b[43m)\u001b[49m, axis\u001b[38;5;241m=\u001b[39m\u001b[38;5;241m1\u001b[39m)\n\u001b[1;32m     21\u001b[0m \u001b[38;5;66;03m# Combine the input dataframe with the calculated features\u001b[39;00m\n\u001b[1;32m     22\u001b[0m result_df \u001b[38;5;241m=\u001b[39m pd\u001b[38;5;241m.\u001b[39mconcat([input_df, result_features], axis\u001b[38;5;241m=\u001b[39m\u001b[38;5;241m1\u001b[39m)\n",
      "Cell \u001b[0;32mIn[344], line 8\u001b[0m, in \u001b[0;36mcalculate_win_loss_round\u001b[0;34m(df, fighter_a_id, fighter_b_id, index, colnames)\u001b[0m\n\u001b[1;32m      4\u001b[0m \u001b[38;5;28mprint\u001b[39m(\u001b[38;5;124mf\u001b[39m\u001b[38;5;124m'\u001b[39m\u001b[38;5;124m this is the index: \u001b[39m\u001b[38;5;132;01m{\u001b[39;00mindex\u001b[38;5;132;01m}\u001b[39;00m\u001b[38;5;124m'\u001b[39m)\n\u001b[1;32m      5\u001b[0m \u001b[38;5;66;03m# print(f'cols for a: {colnames[:48]}')\u001b[39;00m\n\u001b[1;32m      6\u001b[0m \u001b[38;5;66;03m# print(f'cols for b: {colnames[48:]}')\u001b[39;00m\n\u001b[1;32m      7\u001b[0m \u001b[38;5;66;03m# assert len(colnames[:48]) + len(colnames[48:]) == len(colnames) == 96\u001b[39;00m\n\u001b[0;32m----> 8\u001b[0m res\u001b[38;5;241m.\u001b[39mappend(\u001b[43mget_win_loss_round_feats\u001b[49m\u001b[43m(\u001b[49m\u001b[43mdf\u001b[49m\u001b[43m,\u001b[49m\u001b[43m \u001b[49m\u001b[43mfighter_a_id\u001b[49m\u001b[43m,\u001b[49m\u001b[43m \u001b[49m\u001b[43mindex\u001b[49m\u001b[43m,\u001b[49m\u001b[43m \u001b[49m\u001b[43mcolnames\u001b[49m\u001b[43m[\u001b[49m\u001b[43m:\u001b[49m\u001b[38;5;241;43m48\u001b[39;49m\u001b[43m]\u001b[49m\u001b[43m)\u001b[49m) \u001b[38;5;66;03m# has all of fighter_a's cols\u001b[39;00m\n\u001b[1;32m      9\u001b[0m res\u001b[38;5;241m.\u001b[39mappend(get_win_loss_round_feats(df, fighter_b_id, index, colnames[\u001b[38;5;241m48\u001b[39m:])) \u001b[38;5;66;03m# has all of fighter_b's cols\u001b[39;00m\n\u001b[1;32m     10\u001b[0m \u001b[38;5;66;03m# print(len(res)) # 2\u001b[39;00m\n",
      "Cell \u001b[0;32mIn[341], line 9\u001b[0m, in \u001b[0;36mget_win_loss_round_feats\u001b[0;34m(df, fighter_id, index, colnames)\u001b[0m\n\u001b[1;32m      7\u001b[0m fights_won_5R, fights_lost_5R \u001b[38;5;241m=\u001b[39m get_wins_losses(all_prev_fights_5R, fighter_id)\n\u001b[1;32m      8\u001b[0m \u001b[38;5;66;03m# print(index)\u001b[39;00m\n\u001b[0;32m----> 9\u001b[0m res\u001b[38;5;241m.\u001b[39mappend(\u001b[43mget_win_loss_round_details\u001b[49m\u001b[43m(\u001b[49m\u001b[43mfights_won_3R\u001b[49m\u001b[43m,\u001b[49m\u001b[43m \u001b[49m\u001b[43mfights_lost_3R\u001b[49m\u001b[43m,\u001b[49m\u001b[43m \u001b[49m\u001b[43mfighter_id\u001b[49m\u001b[43m,\u001b[49m\u001b[43m \u001b[49m\u001b[43mcolnames\u001b[49m\u001b[43m[\u001b[49m\u001b[43m:\u001b[49m\u001b[38;5;241;43m20\u001b[39;49m\u001b[43m]\u001b[49m\u001b[43m,\u001b[49m\u001b[43m \u001b[49m\u001b[43myear_ago\u001b[49m\u001b[43m)\u001b[49m)\n\u001b[1;32m     10\u001b[0m res\u001b[38;5;241m.\u001b[39mappend(get_win_loss_round_details(fights_won_5R, fights_lost_5R, fighter_id, colnames[\u001b[38;5;241m20\u001b[39m:], year_ago))\n\u001b[1;32m     11\u001b[0m \u001b[38;5;66;03m# print(len(res)) # 2\u001b[39;00m\n",
      "Cell \u001b[0;32mIn[340], line 45\u001b[0m, in \u001b[0;36mget_win_loss_round_details\u001b[0;34m(fights_won, fights_lost, fighter_id, colnames, year_ago)\u001b[0m\n\u001b[1;32m     42\u001b[0m     \u001b[38;5;66;03m# print(f'printing the date col: {round_outcome_fights[\"date\"]}')\u001b[39;00m\n\u001b[1;32m     43\u001b[0m     \u001b[38;5;66;03m# print(round_outcome_fights.columns)\u001b[39;00m\n\u001b[1;32m     44\u001b[0m     res\u001b[38;5;241m.\u001b[39mappend(\u001b[38;5;28mlen\u001b[39m(round_outcome_fights))\n\u001b[0;32m---> 45\u001b[0m     res\u001b[38;5;241m.\u001b[39mappend(\u001b[38;5;28mlen\u001b[39m(round_outcome_fights[(pd\u001b[38;5;241m.\u001b[39mto_datetime(\u001b[43mround_outcome_fights\u001b[49m\u001b[43m[\u001b[49m\u001b[38;5;124;43m'\u001b[39;49m\u001b[38;5;124;43mdate\u001b[39;49m\u001b[38;5;124;43m'\u001b[39;49m\u001b[43m]\u001b[49m) \u001b[38;5;241m>\u001b[39m year_ago)]))\n\u001b[1;32m     46\u001b[0m     \u001b[38;5;28;01mcontinue\u001b[39;00m\n\u001b[1;32m     47\u001b[0m \u001b[38;5;28;01melse\u001b[39;00m:\n",
      "File \u001b[0;32m/opt/homebrew/lib/python3.11/site-packages/pandas/core/frame.py:3761\u001b[0m, in \u001b[0;36mDataFrame.__getitem__\u001b[0;34m(self, key)\u001b[0m\n\u001b[1;32m   3759\u001b[0m \u001b[38;5;28;01mif\u001b[39;00m \u001b[38;5;28mself\u001b[39m\u001b[38;5;241m.\u001b[39mcolumns\u001b[38;5;241m.\u001b[39mnlevels \u001b[38;5;241m>\u001b[39m \u001b[38;5;241m1\u001b[39m:\n\u001b[1;32m   3760\u001b[0m     \u001b[38;5;28;01mreturn\u001b[39;00m \u001b[38;5;28mself\u001b[39m\u001b[38;5;241m.\u001b[39m_getitem_multilevel(key)\n\u001b[0;32m-> 3761\u001b[0m indexer \u001b[38;5;241m=\u001b[39m \u001b[38;5;28;43mself\u001b[39;49m\u001b[38;5;241;43m.\u001b[39;49m\u001b[43mcolumns\u001b[49m\u001b[38;5;241;43m.\u001b[39;49m\u001b[43mget_loc\u001b[49m\u001b[43m(\u001b[49m\u001b[43mkey\u001b[49m\u001b[43m)\u001b[49m\n\u001b[1;32m   3762\u001b[0m \u001b[38;5;28;01mif\u001b[39;00m is_integer(indexer):\n\u001b[1;32m   3763\u001b[0m     indexer \u001b[38;5;241m=\u001b[39m [indexer]\n",
      "File \u001b[0;32m/opt/homebrew/lib/python3.11/site-packages/pandas/core/indexes/range.py:349\u001b[0m, in \u001b[0;36mRangeIndex.get_loc\u001b[0;34m(self, key)\u001b[0m\n\u001b[1;32m    347\u001b[0m         \u001b[38;5;28;01mraise\u001b[39;00m \u001b[38;5;167;01mKeyError\u001b[39;00m(key) \u001b[38;5;28;01mfrom\u001b[39;00m \u001b[38;5;21;01merr\u001b[39;00m\n\u001b[1;32m    348\u001b[0m \u001b[38;5;28;01mif\u001b[39;00m \u001b[38;5;28misinstance\u001b[39m(key, Hashable):\n\u001b[0;32m--> 349\u001b[0m     \u001b[38;5;28;01mraise\u001b[39;00m \u001b[38;5;167;01mKeyError\u001b[39;00m(key)\n\u001b[1;32m    350\u001b[0m \u001b[38;5;28mself\u001b[39m\u001b[38;5;241m.\u001b[39m_check_indexing_error(key)\n\u001b[1;32m    351\u001b[0m \u001b[38;5;28;01mraise\u001b[39;00m \u001b[38;5;167;01mKeyError\u001b[39;00m(key)\n",
      "\u001b[0;31mKeyError\u001b[0m: 'date'"
     ]
    }
   ],
   "source": [
    "leon_edwards_df = pd.read_csv('leon_edwards_allfights.csv', encoding='ISO-8859-1')\n",
    "\n",
    "result_df = create_win_loss_round_feats(leon_edwards_df)\n",
    "\n",
    "# result_df.to_csv('leon_edwards_win_loss_round.csv', index=False)\n",
    "\n"
   ]
  },
  {
   "cell_type": "code",
   "execution_count": 348,
   "metadata": {},
   "outputs": [
    {
     "name": "stdout",
     "output_type": "stream",
     "text": [
      "20\n",
      "28\n"
     ]
    }
   ],
   "source": [
    "\n",
    "fighter_id = 'f1fac969a1d70b08' # leon edward id\n",
    "index = 15 \n",
    "leon_edwards_df = pd.read_csv('leon_edwards_allfights.csv', encoding='ISO-8859-1')\n",
    "all_prev_fights_3R, all_prev_fights_5R, year_ago = get_fighter_fights_win_loss_round(leon_edwards_df, fighter_id, 15)\n",
    "fights_won_3R, fights_lost_3R = get_wins_losses(all_prev_fights_3R, fighter_id)\n",
    "fights_won_5R, fights_lost_5R = get_wins_losses(all_prev_fights_5R, fighter_id)\n",
    "colnames = create_col_names_win_loss_round()[:48]\n",
    "# # print(colnames[:20])\n",
    "print(len(get_win_loss_round_details(fights_won_3R, fights_lost_3R, fighter_id, colnames[:20], year_ago)))\n",
    "print(len(get_win_loss_round_details(fights_won_5R, fights_lost_5R, fighter_id, colnames[20:], year_ago)))\n",
    "\n"
   ]
  }
 ],
 "metadata": {
  "kernelspec": {
   "display_name": "Python 3",
   "language": "python",
   "name": "python3"
  },
  "language_info": {
   "codemirror_mode": {
    "name": "ipython",
    "version": 3
   },
   "file_extension": ".py",
   "mimetype": "text/x-python",
   "name": "python",
   "nbconvert_exporter": "python",
   "pygments_lexer": "ipython3",
   "version": "3.11.4"
  }
 },
 "nbformat": 4,
 "nbformat_minor": 2
}
